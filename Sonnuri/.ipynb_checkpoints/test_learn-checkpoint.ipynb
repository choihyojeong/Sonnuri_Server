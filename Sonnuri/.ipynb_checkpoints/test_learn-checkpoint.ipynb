{
 "cells": [
  {
   "cell_type": "code",
   "execution_count": 1,
   "id": "2e9c777d-53ae-4151-b6ec-92e20ae5796e",
   "metadata": {},
   "outputs": [
    {
     "ename": "ModuleNotFoundError",
     "evalue": "No module named 'cv2'",
     "output_type": "error",
     "traceback": [
      "\u001b[31m---------------------------------------------------------------------------\u001b[39m",
      "\u001b[31mModuleNotFoundError\u001b[39m                       Traceback (most recent call last)",
      "\u001b[36mCell\u001b[39m\u001b[36m \u001b[39m\u001b[32mIn[1]\u001b[39m\u001b[32m, line 2\u001b[39m\n\u001b[32m      1\u001b[39m \u001b[38;5;28;01mimport\u001b[39;00m\u001b[38;5;250m \u001b[39m\u001b[34;01mwebsocket\u001b[39;00m\n\u001b[32m----> \u001b[39m\u001b[32m2\u001b[39m \u001b[38;5;28;01mimport\u001b[39;00m\u001b[38;5;250m \u001b[39m\u001b[34;01mcv2\u001b[39;00m\n\u001b[32m      3\u001b[39m \u001b[38;5;28;01mimport\u001b[39;00m\u001b[38;5;250m \u001b[39m\u001b[34;01mjson\u001b[39;00m\n\u001b[32m      4\u001b[39m \u001b[38;5;28;01mimport\u001b[39;00m\u001b[38;5;250m \u001b[39m\u001b[34;01mtime\u001b[39;00m\n",
      "\u001b[31mModuleNotFoundError\u001b[39m: No module named 'cv2'"
     ]
    }
   ],
   "source": [
    "import websocket\n",
    "import cv2\n",
    "import json\n",
    "import time\n",
    "import threading\n",
    "\n",
    "def send_frames(ws):\n",
    "    cap = cv2.VideoCapture(0)  # 웹캠 열기\n",
    "    while cap.isOpened():\n",
    "        ret, frame = cap.read()\n",
    "        if not ret:\n",
    "            break\n",
    "        _, buffer = cv2.imencode('.jpg', frame)\n",
    "        ws.send(buffer.tobytes(), opcode=websocket.ABNF.OPCODE_BINARY)\n",
    "        time.sleep(0.1)  # 10fps 속도 조절\n",
    "    cap.release()\n",
    "    ws.close()\n",
    "\n",
    "def on_message(ws, message):\n",
    "    print(\"[결과 수신]\", message)\n",
    "\n",
    "def on_error(ws, error):\n",
    "    print(\"[에러]\", error)\n",
    "\n",
    "def on_close(ws, close_status_code, close_msg):\n",
    "    print(\"[연결 종료]\")\n",
    "\n",
    "def on_open(ws):\n",
    "    print(\"[연결 시작]\")\n",
    "    threading.Thread(target=send_frames, args=(ws,)).start()\n",
    "\n",
    "# 학습 테스트용 URL 예시 (포트와 호스트 확인)\n",
    "ws = websocket.WebSocketApp(\n",
    "    \"ws://localhost:8000/stream/learn\",  # 혹은 /stream/translate\n",
    "    on_open=on_open,\n",
    "    on_message=on_message,\n",
    "    on_error=on_error,\n",
    "    on_close=on_close\n",
    ")\n",
    "\n",
    "ws.run_forever()\n"
   ]
  },
  {
   "cell_type": "code",
   "execution_count": null,
   "id": "63edcdb0-9dd5-47d5-8ea2-6b121a3ff9cf",
   "metadata": {},
   "outputs": [],
   "source": []
  }
 ],
 "metadata": {
  "kernelspec": {
   "display_name": "Python 3 (ipykernel)",
   "language": "python",
   "name": "python3"
  },
  "language_info": {
   "codemirror_mode": {
    "name": "ipython",
    "version": 3
   },
   "file_extension": ".py",
   "mimetype": "text/x-python",
   "name": "python",
   "nbconvert_exporter": "python",
   "pygments_lexer": "ipython3",
   "version": "3.13.2"
  }
 },
 "nbformat": 4,
 "nbformat_minor": 5
}
