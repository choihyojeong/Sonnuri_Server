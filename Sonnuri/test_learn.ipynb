{
 "cells": [
  {
   "cell_type": "code",
   "execution_count": 2,
   "id": "6a0c1621-eaa4-43be-bc18-3fd363631a00",
   "metadata": {},
   "outputs": [
    {
     "name": "stdout",
     "output_type": "stream",
     "text": [
      "Requirement already satisfied: websocket-client in c:\\users\\hyoje\\appdata\\local\\programs\\python\\python313\\lib\\site-packages (1.8.0)\n",
      "Collecting opencv-python\n",
      "  Using cached opencv_python-4.11.0.86-cp37-abi3-win_amd64.whl.metadata (20 kB)\n",
      "Requirement already satisfied: numpy>=1.21.2 in c:\\users\\hyoje\\appdata\\local\\programs\\python\\python313\\lib\\site-packages (from opencv-python) (2.2.6)\n",
      "Using cached opencv_python-4.11.0.86-cp37-abi3-win_amd64.whl (39.5 MB)\n",
      "Installing collected packages: opencv-python\n",
      "Successfully installed opencv-python-4.11.0.86\n",
      "Note: you may need to restart the kernel to use updated packages.\n"
     ]
    }
   ],
   "source": [
    "pip install websocket-client opencv-python"
   ]
  },
  {
   "cell_type": "code",
   "execution_count": 3,
   "id": "2e9c777d-53ae-4151-b6ec-92e20ae5796e",
   "metadata": {},
   "outputs": [
    {
     "name": "stdout",
     "output_type": "stream",
     "text": [
      "[연결 시작]\n",
      "[결과 수신] {\"gesture\": \"\\u3131\", \"confidence\": 0.972}\n",
      "[결과 수신] {\"gesture\": \"\\u3131\", \"confidence\": 0.922}\n",
      "[결과 수신] {\"gesture\": \"\\u3131\", \"confidence\": 0.859}\n",
      "[결과 수신] {\"gesture\": \"\\u3131\", \"confidence\": 0.949}\n",
      "[결과 수신] {\"gesture\": \"\\u3131\", \"confidence\": 0.952}\n",
      "[결과 수신] {\"gesture\": \"\\u3131\", \"confidence\": 0.942}\n",
      "[결과 수신] {\"gesture\": \"\\u3131\", \"confidence\": 0.976}\n",
      "[결과 수신] {\"gesture\": \"\\u3131\", \"confidence\": 0.94}\n",
      "[결과 수신] {\"gesture\": \"\\u3131\", \"confidence\": 0.871}\n",
      "[에러] \n",
      "[연결 종료]\n"
     ]
    },
    {
     "data": {
      "text/plain": [
       "True"
      ]
     },
     "execution_count": 3,
     "metadata": {},
     "output_type": "execute_result"
    },
    {
     "name": "stderr",
     "output_type": "stream",
     "text": [
      "Exception in thread Thread-4 (send_frames):\n",
      "Traceback (most recent call last):\n",
      "  File \u001b[35m\"C:\\Users\\hyoje\\AppData\\Local\\Programs\\Python\\Python313\\Lib\\threading.py\"\u001b[0m, line \u001b[35m1041\u001b[0m, in \u001b[35m_bootstrap_inner\u001b[0m\n",
      "    \u001b[31mself.run\u001b[0m\u001b[1;31m()\u001b[0m\n",
      "    \u001b[31m~~~~~~~~\u001b[0m\u001b[1;31m^^\u001b[0m\n",
      "  File \u001b[35m\"C:\\Users\\hyoje\\AppData\\Local\\Programs\\Python\\Python313\\Lib\\site-packages\\ipykernel\\ipkernel.py\"\u001b[0m, line \u001b[35m766\u001b[0m, in \u001b[35mrun_closure\u001b[0m\n",
      "    \u001b[31m_threading_Thread_run\u001b[0m\u001b[1;31m(self)\u001b[0m\n",
      "    \u001b[31m~~~~~~~~~~~~~~~~~~~~~\u001b[0m\u001b[1;31m^^^^^^\u001b[0m\n",
      "  File \u001b[35m\"C:\\Users\\hyoje\\AppData\\Local\\Programs\\Python\\Python313\\Lib\\threading.py\"\u001b[0m, line \u001b[35m992\u001b[0m, in \u001b[35mrun\u001b[0m\n",
      "    \u001b[31mself._target\u001b[0m\u001b[1;31m(*self._args, **self._kwargs)\u001b[0m\n",
      "    \u001b[31m~~~~~~~~~~~~\u001b[0m\u001b[1;31m^^^^^^^^^^^^^^^^^^^^^^^^^^^^^\u001b[0m\n",
      "  File \u001b[35m\"C:\\Users\\hyoje\\AppData\\Local\\Temp\\ipykernel_19556\\2583275896.py\"\u001b[0m, line \u001b[35m14\u001b[0m, in \u001b[35msend_frames\u001b[0m\n",
      "    \u001b[31mws.send\u001b[0m\u001b[1;31m(buffer.tobytes(), opcode=websocket.ABNF.OPCODE_BINARY)\u001b[0m\n",
      "    \u001b[31m~~~~~~~\u001b[0m\u001b[1;31m^^^^^^^^^^^^^^^^^^^^^^^^^^^^^^^^^^^^^^^^^^^^^^^^^^^^^^^\u001b[0m\n",
      "  File \u001b[35m\"C:\\Users\\hyoje\\AppData\\Local\\Programs\\Python\\Python313\\Lib\\site-packages\\websocket\\_app.py\"\u001b[0m, line \u001b[35m291\u001b[0m, in \u001b[35msend\u001b[0m\n",
      "    raise WebSocketConnectionClosedException(\"Connection is already closed.\")\n",
      "\u001b[1;35mwebsocket._exceptions.WebSocketConnectionClosedException\u001b[0m: \u001b[35mConnection is already closed.\u001b[0m\n"
     ]
    }
   ],
   "source": [
    "import websocket\n",
    "import cv2\n",
    "import json\n",
    "import time\n",
    "import threading\n",
    "\n",
    "def send_frames(ws):\n",
    "    cap = cv2.VideoCapture(0)  # 웹캠 열기\n",
    "    while cap.isOpened():\n",
    "        ret, frame = cap.read()\n",
    "        if not ret:\n",
    "            break\n",
    "        _, buffer = cv2.imencode('.jpg', frame)\n",
    "        ws.send(buffer.tobytes(), opcode=websocket.ABNF.OPCODE_BINARY)\n",
    "        time.sleep(0.1)  # 10fps 속도 조절\n",
    "    cap.release()\n",
    "    ws.close()\n",
    "\n",
    "def on_message(ws, message):\n",
    "    print(\"[결과 수신]\", message)\n",
    "\n",
    "def on_error(ws, error):\n",
    "    print(\"[에러]\", error)\n",
    "\n",
    "def on_close(ws, close_status_code, close_msg):\n",
    "    print(\"[연결 종료]\")\n",
    "\n",
    "def on_open(ws):\n",
    "    print(\"[연결 시작]\")\n",
    "    threading.Thread(target=send_frames, args=(ws,)).start()\n",
    "\n",
    "# 학습 테스트용 URL 예시 (포트와 호스트 확인)\n",
    "ws = websocket.WebSocketApp(\n",
    "    \"ws://localhost:8000/stream/learn\",  # 혹은 /stream/translate\n",
    "    on_open=on_open,\n",
    "    on_message=on_message,\n",
    "    on_error=on_error,\n",
    "    on_close=on_close\n",
    ")\n",
    "\n",
    "ws.run_forever()\n"
   ]
  },
  {
   "cell_type": "code",
   "execution_count": null,
   "id": "63edcdb0-9dd5-47d5-8ea2-6b121a3ff9cf",
   "metadata": {},
   "outputs": [],
   "source": []
  }
 ],
 "metadata": {
  "kernelspec": {
   "display_name": "Python 3 (ipykernel)",
   "language": "python",
   "name": "python3"
  },
  "language_info": {
   "codemirror_mode": {
    "name": "ipython",
    "version": 3
   },
   "file_extension": ".py",
   "mimetype": "text/x-python",
   "name": "python",
   "nbconvert_exporter": "python",
   "pygments_lexer": "ipython3",
   "version": "3.13.2"
  }
 },
 "nbformat": 4,
 "nbformat_minor": 5
}
